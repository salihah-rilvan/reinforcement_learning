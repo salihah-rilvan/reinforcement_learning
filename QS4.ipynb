{
  "nbformat": 4,
  "nbformat_minor": 0,
  "metadata": {
    "kernelspec": {
      "display_name": "Python 3",
      "language": "python",
      "name": "python3"
    },
    "language_info": {
      "codemirror_mode": {
        "name": "ipython",
        "version": 3
      },
      "file_extension": ".py",
      "mimetype": "text/x-python",
      "name": "python",
      "nbconvert_exporter": "python",
      "pygments_lexer": "ipython3",
      "version": "3.6.5"
    },
    "colab": {
      "name": "QS4.ipynb",
      "provenance": []
    }
  },
  "cells": [
    {
      "cell_type": "markdown",
      "metadata": {
        "id": "i6N0JKbSizsy"
      },
      "source": [
        "# Reinforcement Learning"
      ]
    },
    {
      "cell_type": "markdown",
      "metadata": {
        "id": "xgx5rxKqizs3"
      },
      "source": [
        "Game is played with infinite deck of cards\n",
        "Each draw from deck results in value between 1 and 10 (uniformly distributed) with a color\n",
        "of red (probability 1/3) or black (probability 2/3)\n",
        "At the start of the game both the player and dealer draw one black card\n",
        "\n",
        "Each turn the player may either stick or hit\n",
        "If player hits, then she draws another card from the deck\n",
        "If player sticks, she receives no further cards\n",
        "The value of players cards is added (black cards) or subtracted (red cards)\n",
        "If player’s sum exceeds 21, or becomes less than 1, then she “goes bust” and loses the game\n",
        "(reward -1)\n",
        "\n",
        "If the player sticks, then the dealer starts taking turns. The dealer always sticks on any sum of\n",
        "17 or greater, and hits otherwise. If the dealer goes bust, then the player wins; otherwise the\n",
        "outcome-win (reward +1), lose (reward -1), or draw (reward 0) - is the player with the largest\n",
        "sum.\n",
        "1. Build a simulator that simulates the draw of cards and play of the game between\n",
        "player and dealer.\n",
        "2. Then, implement a Q-learning approach to maximize expected reward in this game"
      ]
    },
    {
      "cell_type": "markdown",
      "metadata": {
        "id": "p5nY648jizs4"
      },
      "source": [
        "# Part 1"
      ]
    },
    {
      "cell_type": "code",
      "metadata": {
        "id": "H3MsDbohizs4"
      },
      "source": [
        "import random"
      ],
      "execution_count": null,
      "outputs": []
    },
    {
      "cell_type": "code",
      "metadata": {
        "id": "1b0iwSeGizs4"
      },
      "source": [
        "class Game:\n",
        "    #initializing\n",
        "    def __init__(self):\n",
        "        self.start = False\n",
        "        self.player_action = None\n",
        "        self.dealer_action = None\n",
        "        self.player_val = 0\n",
        "        self.dealer_val = 0\n",
        "        self.reward = None\n",
        "    #value when game just started\n",
        "    def start_game(self):\n",
        "        self.player_val +=1\n",
        "        self.dealer_val +=1\n",
        "\n",
        "    #how player's value changes according to decision   \n",
        "    def player_decision(self):\n",
        "\n",
        "        if self.player_action == \"Hit\":\n",
        "            color = random.choices([\"Black\", \"Red\"], weights = [2/3, 1/3])\n",
        "            number = random.randint(1,10)\n",
        "            if color[0]== \"Black\":\n",
        "                self.player_val = self.player_val + number\n",
        "            elif color[0]== \"Red\":\n",
        "                self.player_val = self.player_val - number\n",
        "\n",
        "    #how dealer's value changes according to decision\n",
        "    def dealer_decision(self):\n",
        "        if self.player_action == \"Stick\":\n",
        "            if self.dealer_val >= 17:\n",
        "                self.dealer_action = \"Stick\"\n",
        "            else:\n",
        "                self.dealer_action = \"Hit\"\n",
        "                color = random.choices([\"Black\", \"Red\"], weights = [2/3, 1/3])\n",
        "                number = random.randint(1,10)\n",
        "                if color[0] == \"Black\":\n",
        "                    self.dealer_val = self.dealer_val + number\n",
        "                elif color[0] == \"Red\":\n",
        "                    self.dealer_val = self.dealer_val - number\n",
        "            \n",
        "    #calculation of reward\n",
        "    def reward_calc(self):\n",
        "        if self.player_val <1 or self.player_val>21:\n",
        "            self.reward = -1\n",
        "        elif self.dealer_val <1 or self.dealer_val >21:\n",
        "            self.reward = +1\n",
        "        elif self.player_val == self.dealer_val:\n",
        "            self.reward = 0\n",
        "    \n",
        "    #Execution of game\n",
        "    def game_processing(self):\n",
        "        self.start_game()\n",
        "#         print(self.player_val)\n",
        "#         print(self.dealer_val)\n",
        "        self.player_action = input(\"Choose your action: \")\n",
        "        self.player_decision()\n",
        "        self.dealer_decision()\n",
        "        print(self.player_val)\n",
        "        print(self.dealer_val)\n",
        "        \n",
        "        self.reward_calc()\n",
        "\n",
        "        while (self.player_val >=1 and self.player_val <=21) and (self.dealer_val >=1 and self.dealer_val<=21) and (self.player_val != self.dealer_val):\n",
        "            self.player_action = input(\"Choose your action: \")\n",
        "            self.player_decision()\n",
        "            self.dealer_decision()\n",
        "            print(self.player_val)\n",
        "            print(self.dealer_val)\n",
        "            self.reward_calc()\n",
        "        return self.reward\n",
        "   "
      ],
      "execution_count": null,
      "outputs": []
    },
    {
      "cell_type": "code",
      "metadata": {
        "id": "Ioyf0ivwizs5",
        "outputId": "c289f30f-e966-4dcf-f714-d7d4c1e65119"
      },
      "source": [
        "Game().game_processing()"
      ],
      "execution_count": null,
      "outputs": [
        {
          "output_type": "stream",
          "text": [
            "Choose your action: Hit\n",
            "4\n",
            "1\n",
            "Choose your action: Hit\n",
            "9\n",
            "1\n",
            "Choose your action: Stick\n",
            "9\n",
            "-8\n"
          ],
          "name": "stdout"
        },
        {
          "output_type": "execute_result",
          "data": {
            "text/plain": [
              "1"
            ]
          },
          "metadata": {
            "tags": []
          },
          "execution_count": 3
        }
      ]
    },
    {
      "cell_type": "markdown",
      "metadata": {
        "id": "e4vmA7mcizs6"
      },
      "source": [
        "# Part 2"
      ]
    },
    {
      "cell_type": "code",
      "metadata": {
        "id": "cZbTXXFrizs6"
      },
      "source": [
        "class QGame:\n",
        "    #initializing\n",
        "    def __init__(self):\n",
        "        self.start = False\n",
        "        self.player_action = None\n",
        "        self.dealer_action = None\n",
        "        self.player_val = 0\n",
        "        self.dealer_val = 0\n",
        "        self.reward = None\n",
        "        self.Qvalue = []\n",
        "        self.Q = []\n",
        "        self.Q_last = []\n",
        "#         self.Q_new = []\n",
        "        self.weight_hit = 0.0\n",
        "        self.weight_stick = 0.0\n",
        "        self.epsilon = 0.2\n",
        "        self.alpha = 0.3\n",
        "        self.gamma = 0.9\n",
        "    #value when game just started\n",
        "    def start_game(self):\n",
        "        self.player_val +=1\n",
        "        self.dealer_val +=1\n",
        "\n",
        "    #how player's value changes according to decision   \n",
        "    def player_decision(self):\n",
        "\n",
        "        if self.player_action == \"Hit\":\n",
        "            color = random.choices([\"Black\", \"Red\"], weights = [2/3, 1/3])\n",
        "            number = random.randint(1,10)\n",
        "            if color[0]== \"Black\":\n",
        "                self.player_val = self.player_val + number\n",
        "            elif color[0]== \"Red\":\n",
        "                self.player_val = self.player_val - number\n",
        "\n",
        "    #how dealer's value changes according to decision\n",
        "    def dealer_decision(self):\n",
        "        if self.player_action == \"Stick\":\n",
        "            if self.dealer_val >= 17:\n",
        "                self.dealer_action = \"Stick\"\n",
        "            else:\n",
        "                self.dealer_action = \"Hit\"\n",
        "                color = random.choices([\"Black\", \"Red\"], weights = [2/3, 1/3])\n",
        "                number = random.randint(1,10)\n",
        "                if color[0] == \"Black\":\n",
        "                    self.dealer_val = self.dealer_val + number\n",
        "                elif color[0] == \"Red\":\n",
        "                    self.dealer_val = self.dealer_val - number\n",
        "            \n",
        "    #calculation of reward\n",
        "    def reward_calc(self):\n",
        "        if self.player_val <1 or self.player_val>21:\n",
        "            self.reward = -1\n",
        "        elif self.dealer_val <1 or self.dealer_val >21:\n",
        "            self.reward = +1\n",
        "        elif self.player_val == self.dealer_val:\n",
        "            self.reward = 0\n",
        "        else:\n",
        "            self.reward = 0\n",
        "    \n",
        "    #updating Q table\n",
        "    def update_Qtable(self):\n",
        "        if len(self.Q) == 0:\n",
        "            self.Qvalue = 1.0\n",
        "        else:\n",
        "#             print(self.Qvalue)\n",
        "#             print(self.Q_last[2])\n",
        "#             print(\"reward\", self.reward)\n",
        "#             print(\"gamma\", self.gamma)\n",
        "#             print(\"alpha\", self.alpha)\n",
        "            self.Qvalue = self.Q_last[2] + self.alpha * ((self.reward + self.gamma * max(self.Q,key=lambda item:item[2])[-1] - self.Q_last[-1]))\n",
        "        \n",
        "        self.Q.append(((self.player_val, self.dealer_val), self.player_action, self.Qvalue))\n",
        "#         self.Q[self.state_action_last] = self.q_last + self.alpha * ((reward + self.gamma*max_q_next) - self.q_last)\n",
        "      \n",
        "    #Epsilon greedy as chosen bandit strategy to choose the best action\n",
        "    def epsilon_greedy(self):\n",
        "        if len(self.Q) != 0:\n",
        "           chosen_action = max(self.Q,key=lambda item:item[2])[1]\n",
        "           if chosen_action == 'Hit':\n",
        "                self.weight_hit = 1-self.epsilon\n",
        "                self.weight_stick = self.epsilon\n",
        "           else:\n",
        "                self.weight_stick = 1-self.epsilon\n",
        "                self.weight_hit = self.epsilon            \n",
        "\n",
        "        \n",
        "    #Execution of game\n",
        "    def game_processing(self):\n",
        "        self.start_game()\n",
        "#         print(self.player_val)\n",
        "#         print(self.dealer_val)\n",
        "        self.player_action = input(\"Choose your action: \")\n",
        "        self.player_decision()\n",
        "        self.dealer_decision()\n",
        "        print(self.player_val)\n",
        "        print(self.dealer_val)\n",
        "        \n",
        "        self.reward_calc()\n",
        "        self.Q_last = ((self.player_val, self.dealer_val), self.player_action, 1.0)\n",
        "        self.update_Qtable()\n",
        "        self.epsilon_greedy()\n",
        "        while (self.player_val >=1 and self.player_val <=21) and (self.dealer_val >=1 and self.dealer_val<=21) and (self.player_val != self.dealer_val):\n",
        "            self.player_action = random.choices([\"Hit\", \"Stick\"], weights = [self.weight_hit, self.weight_stick])[0]\n",
        "            print(self.player_action)\n",
        "            self.player_decision()\n",
        "            self.dealer_decision()\n",
        "            print(self.player_val)\n",
        "            print(self.dealer_val)\n",
        "            self.reward_calc()\n",
        "            self.Q_last = ((self.player_val, self.dealer_val), self.player_action, 1.0)\n",
        "            self.update_Qtable()\n",
        "            self.Q_last = (self.Q[-1])\n",
        "            self.epsilon_greedy()\n",
        "        return self.reward\n",
        "   "
      ],
      "execution_count": null,
      "outputs": []
    },
    {
      "cell_type": "code",
      "metadata": {
        "id": "ZMPi-Z1Oizs7",
        "outputId": "8601fbaf-7956-4895-8ceb-a9b703a521e8"
      },
      "source": [
        "QGame().game_processing()"
      ],
      "execution_count": null,
      "outputs": [
        {
          "output_type": "stream",
          "text": [
            "Choose your action: Stick\n",
            "1\n",
            "-7\n"
          ],
          "name": "stdout"
        },
        {
          "output_type": "execute_result",
          "data": {
            "text/plain": [
              "1"
            ]
          },
          "metadata": {
            "tags": []
          },
          "execution_count": 42
        }
      ]
    },
    {
      "cell_type": "code",
      "metadata": {
        "id": "UwX4LTk8izs7"
      },
      "source": [
        ""
      ],
      "execution_count": null,
      "outputs": []
    }
  ]
}